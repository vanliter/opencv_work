{
 "cells": [
  {
   "cell_type": "code",
   "execution_count": 2,
   "id": "276a7c17-41a1-4324-9572-43fbc2cee75e",
   "metadata": {},
   "outputs": [
    {
     "name": "stdin",
     "output_type": "stream",
     "text": [
      "\n",
      " enter user id end press <return> ==>  \n"
     ]
    },
    {
     "name": "stdout",
     "output_type": "stream",
     "text": [
      "\n",
      " [INFO] Initializing face capture. Look the camera and wait ...\n"
     ]
    }
   ],
   "source": [
    "#https://velog.io/@huttzza/%EC%8B%A4%EC%8B%9C%EA%B0%84-%EC%96%BC%EA%B5%B4-%EC%9D%B8%EC%8B%9D-%ED%94%84%EB%A1%9C%EA%B7%B8%EB%9E%A8-1%EC%B0%A8-%EA%B5%AC%ED%98%84\n",
    "#카메라를 켜서 사진을 찍고 지정해둔 폴더에 저장\n",
    "\n",
    "import cv2 #OpenCV 영상처리\n",
    "\n",
    "#classifier\n",
    "faceCascade = cv2.CascadeClassifier(cv2.data.haarcascades + 'haarcascade_frontalface_default.xml')\n",
    "\n",
    "#video caputure setting\n",
    "capture = cv2.VideoCapture(1) # initialize, # is camera number\n",
    "capture.set(cv2.CAP_PROP_FRAME_WIDTH,1280) #CAP_PROP_FRAME_WIDTH == 3\n",
    "capture.set(cv2.CAP_PROP_FRAME_HEIGHT,720) #CAP_PROP_FRAME_HEIGHT == 4\n",
    "\n",
    "#console message\n",
    "face_id = input('\\n enter user id end press <return> ==> ')\n",
    "print(\"\\n [INFO] Initializing face capture. Look the camera and wait ...\")\n",
    "\n",
    "count = 0 # # of caputre face images\n",
    "#영상 처리 및 출력\n",
    "while True: \n",
    "    ret, frame = capture.read() #카메라 상태 및 프레임\n",
    "    # cf. frame = cv2.flip(frame, -1) 상하반전 \n",
    "    gray = cv2.cvtColor(frame, cv2.COLOR_BGR2GRAY) #흑백으로\n",
    "    faces = faceCascade.detectMultiScale(\n",
    "        gray,#검출하고자 하는 원본이미지\n",
    "        scaleFactor = 1.2, #검색 윈도우 확대 비율, 1보다 커야 한다\n",
    "        minNeighbors = 6, #얼굴 사이 최소 간격(픽셀)\n",
    "        minSize=(20,20) #얼굴 최소 크기. 이것보다 작으면 무시\n",
    "    )\n",
    "\n",
    "    #얼굴에 대해 rectangle 출력\n",
    "    for (x,y,w,h) in faces:\n",
    "        cv2.rectangle(frame,(x,y),(x+w,y+h),(255,0,0),2)\n",
    "        #inputOutputArray, point1 , 2, colorBGR, thickness)\n",
    "        count += 1\n",
    "        cv2.imwrite(\"/Users/gangseoggyu/Desktop/opencv/image_1/image\"+str(face_id)+'.'+str(count)+\".jpg\",gray[y:y+h, x:x+w])\n",
    "    cv2.imshow('image',frame)\n",
    "\n",
    "    #종료 조건\n",
    "    if cv2.waitKey(1) > 0 : break #키 입력이 있을 때 반복문 종료\n",
    "    elif count >= 100 : break #100 face sample\n",
    " \n",
    "\n",
    "capture.release() #메모리 해제\n",
    "cv2.destroyAllWindows()#모든 윈도우 창 닫기\n"
   ]
  },
  {
   "cell_type": "code",
   "execution_count": 5,
   "id": "ddbb6c89-d2ab-4b8b-87dc-18ef869ce9a1",
   "metadata": {},
   "outputs": [
    {
     "name": "stdout",
     "output_type": "stream",
     "text": [
      "\n",
      " [INFO] Training faces. It will take a few seconds. Wait ...\n",
      "\n",
      " [INFO] 100 faces trained. Exiting Program\n"
     ]
    }
   ],
   "source": [
    "# 저장된 이미지들을 가지고 학습하는 코드<원래 코드>\n",
    "import cv2\n",
    "import numpy as np #배열 계산 용이\n",
    "from PIL import Image #python imaging library\n",
    "import os\n",
    "\n",
    "detector = cv2.CascadeClassifier(cv2.data.haarcascades + 'haarcascade_frontalface_default.xml')\n",
    "\n",
    "recognizer = cv2.face.LBPHFaceRecognizer_create()  \n",
    "\n",
    "path = '/Users/gangseoggyu/Desktop/opencv/image_1'\n",
    "\n",
    "def getImagesAndLabels(path):\n",
    "    imagePaths = [os.path.join(path, f) for f in os.listdir(path) if f.endswith(('.png', '.jpg', '.jpeg'))]\n",
    "    #listdir : 해당 디렉토리 내 파일 리스트\n",
    "    #path + file Name : 경로 list 만들기\n",
    "    \n",
    "    faceSamples = []\n",
    "    ids = []\n",
    "    for imagePath in imagePaths: #각 파일마다\n",
    "        #흑백 변환\n",
    "        PIL_img = Image.open(imagePath).convert('L') #L : 8 bit pixel, bw\n",
    "        img_numpy = np.array(PIL_img, 'uint8')\n",
    "\n",
    "        #user id\n",
    "        id = int(os.path.split(imagePath)[-1].split(\".\")[1])#마지막 index : -1\n",
    "\n",
    "        #학습을 위한 얼굴 샘플\n",
    "        faces = detector.detectMultiScale(img_numpy)\n",
    "        \n",
    "        for(x,y,w,h) in faces:\n",
    "            faceSamples.append(img_numpy[y:y+h,x:x+w])\n",
    "            ids.append(id)\n",
    "\n",
    "    return faceSamples, ids\n",
    "    \n",
    "print('\\n [INFO] Training faces. It will take a few seconds. Wait ...')\n",
    "faces, ids = getImagesAndLabels(path)\n",
    "\n",
    "recognizer.train(faces,np.array(ids)) #학습\n",
    "\n",
    "recognizer.write('/Users/gangseoggyu/Desktop/opencv/trainer.yml')\n",
    "print('\\n [INFO] {0} faces trained. Exiting Program'.format(len(np.unique(ids))))"
   ]
  },
  {
   "cell_type": "code",
   "execution_count": 4,
   "id": "847bcc51-a729-4df1-b4af-59b54439c5b4",
   "metadata": {},
   "outputs": [
    {
     "name": "stdout",
     "output_type": "stream",
     "text": [
      "\n",
      " [INFO] Training faces. It will take a few seconds. Wait ...\n"
     ]
    },
    {
     "ename": "error",
     "evalue": "OpenCV(4.9.0) :-1: error: (-5:Bad argument) in function 'detectMultiScale'\n> Overload resolution failed:\n>  - image is not a numpy array, neither a scalar\n>  - Expected Ptr<cv::UMat> for argument 'image'\n",
     "output_type": "error",
     "traceback": [
      "\u001b[0;31m---------------------------------------------------------------------------\u001b[0m",
      "\u001b[0;31merror\u001b[0m                                     Traceback (most recent call last)",
      "Cell \u001b[0;32mIn[4], line 42\u001b[0m\n\u001b[1;32m     39\u001b[0m     \u001b[38;5;28;01mreturn\u001b[39;00m faceSamples, ids\n\u001b[1;32m     41\u001b[0m \u001b[38;5;28mprint\u001b[39m(\u001b[38;5;124m'\u001b[39m\u001b[38;5;130;01m\\n\u001b[39;00m\u001b[38;5;124m [INFO] Training faces. It will take a few seconds. Wait ...\u001b[39m\u001b[38;5;124m'\u001b[39m)\n\u001b[0;32m---> 42\u001b[0m faces, ids \u001b[38;5;241m=\u001b[39m \u001b[43mgetImagesAndLabels\u001b[49m\u001b[43m(\u001b[49m\u001b[43mpath\u001b[49m\u001b[43m)\u001b[49m\n\u001b[1;32m     44\u001b[0m recognizer\u001b[38;5;241m.\u001b[39mtrain(faces,np\u001b[38;5;241m.\u001b[39marray(ids)) \u001b[38;5;66;03m#학습\u001b[39;00m\n\u001b[1;32m     46\u001b[0m recognizer\u001b[38;5;241m.\u001b[39mwrite(\u001b[38;5;124m'\u001b[39m\u001b[38;5;124m/Users/gangseoggyu/Desktop/opencv/trainer.yml\u001b[39m\u001b[38;5;124m'\u001b[39m)\n",
      "Cell \u001b[0;32mIn[4], line 33\u001b[0m, in \u001b[0;36mgetImagesAndLabels\u001b[0;34m(path)\u001b[0m\n\u001b[1;32m     30\u001b[0m \u001b[38;5;28mid\u001b[39m \u001b[38;5;241m=\u001b[39m \u001b[38;5;28mint\u001b[39m(os\u001b[38;5;241m.\u001b[39mpath\u001b[38;5;241m.\u001b[39msplit(imagePath)[\u001b[38;5;241m-\u001b[39m\u001b[38;5;241m1\u001b[39m]\u001b[38;5;241m.\u001b[39msplit(\u001b[38;5;124m\"\u001b[39m\u001b[38;5;124m.\u001b[39m\u001b[38;5;124m\"\u001b[39m)[\u001b[38;5;241m1\u001b[39m])\u001b[38;5;66;03m#마지막 index : -1\u001b[39;00m\n\u001b[1;32m     32\u001b[0m \u001b[38;5;66;03m#학습을 위한 얼굴 샘플\u001b[39;00m\n\u001b[0;32m---> 33\u001b[0m faces \u001b[38;5;241m=\u001b[39m \u001b[43mdetector\u001b[49m\u001b[38;5;241;43m.\u001b[39;49m\u001b[43mdetectMultiScale\u001b[49m\u001b[43m(\u001b[49m\u001b[43mtensor_image\u001b[49m\u001b[43m)\u001b[49m\n\u001b[1;32m     35\u001b[0m \u001b[38;5;28;01mfor\u001b[39;00m(x,y,w,h) \u001b[38;5;129;01min\u001b[39;00m faces:\n\u001b[1;32m     36\u001b[0m     faceSamples\u001b[38;5;241m.\u001b[39mappend(tensor_image[y:y\u001b[38;5;241m+\u001b[39mh,x:x\u001b[38;5;241m+\u001b[39mw])\n",
      "\u001b[0;31merror\u001b[0m: OpenCV(4.9.0) :-1: error: (-5:Bad argument) in function 'detectMultiScale'\n> Overload resolution failed:\n>  - image is not a numpy array, neither a scalar\n>  - Expected Ptr<cv::UMat> for argument 'image'\n"
     ]
    }
   ],
   "source": [
    "# 저장된 이미지들을 가지고 학습하는 코드<PyTorch 사용 코드>\n",
    "import cv2\n",
    "import torch\n",
    "import numpy as np #배열 계산 용이\n",
    "from PIL import Image #python imaging library\n",
    "import os\n",
    "\n",
    "detector = cv2.CascadeClassifier(cv2.data.haarcascades + 'haarcascade_frontalface_default.xml')\n",
    "\n",
    "recognizer = cv2.face.LBPHFaceRecognizer_create()  \n",
    "\n",
    "path = '/Users/gangseoggyu/Desktop/opencv/image_1'\n",
    "\n",
    "def getImagesAndLabels(path):\n",
    "    imagePaths = [os.path.join(path, f) for f in os.listdir(path) if f.endswith(('.png', '.jpg', '.jpeg'))]\n",
    "    #listdir : 해당 디렉토리 내 파일 리스트\n",
    "    #path + file Name : 경로 list 만들기\n",
    "    \n",
    "    faceSamples = []\n",
    "    ids = []\n",
    "    for imagePath in imagePaths: #각 파일마다\n",
    "        #흑백 변환\n",
    "        cv_img = cv2.imread(imagePath)\n",
    "        resized_image = cv2.resize(cv_img, (224, 224))\n",
    "        tensor_image = torch.from_numpy(resized_image)\n",
    "\n",
    "        # img_numpy = np.array(PIL_img, 'uint8')\n",
    "\n",
    "        # 얼굴 특징 추출\n",
    "        model = torch.hub.load('pytorch/vision:v0.6.0', 'vgg16', pretrained=True)\n",
    "        features = model.forward(tensor_image)\n",
    "\n",
    "        criterion = torch.nn.CrossEntropyLoss()\n",
    "        optimizer = torch.optim.Adam(model.parameters(), lr=0.001)\n",
    "        for epoch in range(100):#밑으로 학습 코드 작성\n",
    "        \n",
    "        #user id\n",
    "        id = int(os.path.split(imagePath)[-1].split(\".\")[1])#마지막 index : -1\n",
    "\n",
    "        #학습을 위한 얼굴 샘플\n",
    "        faces = detector.detectMultiScale(tensor_image)\n",
    "        \n",
    "        for(x,y,w,h) in faces:\n",
    "            faceSamples.append(tensor_image[y:y+h,x:x+w])\n",
    "            ids.append(id)\n",
    "\n",
    "    return faceSamples, ids\n",
    "    \n",
    "print('\\n [INFO] Training faces. It will take a few seconds. Wait ...')\n",
    "faces, ids = getImagesAndLabels(path)\n",
    "\n",
    "recognizer.train(faces,np.array(ids)) #학습\n",
    "\n",
    "recognizer.write('/Users/gangseoggyu/Desktop/opencv/trainer.yml')\n",
    "print('\\n [INFO] {0} faces trained. Exiting Program'.format(len(np.unique(ids))))"
   ]
  },
  {
   "cell_type": "code",
   "execution_count": 6,
   "id": "4126d27f-0536-4cce-bcf6-163c61f94a4d",
   "metadata": {},
   "outputs": [
    {
     "ename": "IndexError",
     "evalue": "list index out of range",
     "output_type": "error",
     "traceback": [
      "\u001b[0;31m---------------------------------------------------------------------------\u001b[0m",
      "\u001b[0;31mIndexError\u001b[0m                                Traceback (most recent call last)",
      "Cell \u001b[0;32mIn[6], line 41\u001b[0m\n\u001b[1;32m     37\u001b[0m \u001b[38;5;66;03m# names의 인덱스가 아웃오브 레인지다..\u001b[39;00m\n\u001b[1;32m     38\u001b[0m \u001b[38;5;66;03m# 그러면 어떻게 해야할까\u001b[39;00m\n\u001b[1;32m     39\u001b[0m \u001b[38;5;66;03m# confidence가 아니라 id의 문제\u001b[39;00m\n\u001b[1;32m     40\u001b[0m \u001b[38;5;28;01mif\u001b[39;00m confidence \u001b[38;5;241m>\u001b[39m \u001b[38;5;241m55\u001b[39m :\n\u001b[0;32m---> 41\u001b[0m     \u001b[38;5;28mid\u001b[39m \u001b[38;5;241m=\u001b[39m \u001b[43mnames\u001b[49m\u001b[43m[\u001b[49m\u001b[38;5;28;43mid\u001b[39;49m\u001b[43m]\u001b[49m\n\u001b[1;32m     42\u001b[0m \u001b[38;5;28;01melse\u001b[39;00m:\n\u001b[1;32m     43\u001b[0m     \u001b[38;5;28mid\u001b[39m \u001b[38;5;241m=\u001b[39m \u001b[38;5;124m\"\u001b[39m\u001b[38;5;124munknown\u001b[39m\u001b[38;5;124m\"\u001b[39m\n",
      "\u001b[0;31mIndexError\u001b[0m: list index out of range"
     ]
    }
   ],
   "source": [
    "# 학습한 결과를 가지고 누구인지 알려주는 코드\n",
    "import cv2\n",
    "import numpy as np\n",
    "\n",
    "recognizer = cv2.face.LBPHFaceRecognizer_create()\n",
    "recognizer.read('/Users/gangseoggyu/Desktop/opencv/trainer.yml')\n",
    "cascadePath = cv2.data.haarcascades + 'haarcascade_frontalface_default.xml'\n",
    "faceCascade = cv2.CascadeClassifier(cascadePath)\n",
    "\n",
    "font = cv2.FONT_HERSHEY_SIMPLEX\n",
    "\n",
    "id = 0\n",
    "\n",
    "names = ['None','sumin','dongjun','minji']\n",
    "\n",
    "cam = cv2.VideoCapture(1)\n",
    "cam.set(cv2.CAP_PROP_FRAME_WIDTH, 1980)\n",
    "cam.set(cv2.CAP_PROP_FRAME_HEIGHT, 720)\n",
    "\n",
    "minW = 0.1 * cam.get(cv2.CAP_PROP_FRAME_WIDTH)\n",
    "minH = 0.1 * cam.get(cv2.CAP_PROP_FRAME_HEIGHT)\n",
    "\n",
    "while True:\n",
    "    ret, img = cam.read()\n",
    "    gray = cv2.cvtColor(img, cv2.COLOR_BGR2GRAY)\n",
    "\n",
    "    faces = faceCascade.detectMultiScale(\n",
    "        gray,\n",
    "        scaleFactor=1.2,\n",
    "        minNeighbors=6,\n",
    "        minSize=(int(minW), int(minH))\n",
    "    )\n",
    "\n",
    "    for(x,y,w,h) in faces:\n",
    "        cv2.rectangle(img, (x,y), (x+w,y+h), (0,255,0),2)\n",
    "        id, confidence = recognizer.predict(gray[y:y+h, x:x+w])\n",
    "\n",
    "        if confidence > 55 :\n",
    "            id = names[id]\n",
    "        else:\n",
    "            id = \"unknown\"\n",
    "        \n",
    "        confidence = \"  {0}%\".format(round(100-confidence))\n",
    "\n",
    "        cv2.putText(img,str(id), (x+5,y-5),font,1,(255,255,255),2)\n",
    "        cv2.putText(img,str(confidence), (x+5,y+h-5),font,1,(255,255,0),1)\n",
    "    \n",
    "    cv2.imshow('camera',img)\n",
    "    if cv2.waitKey(1) > 0 : break\n",
    "\n",
    "print(\"\\n [INFO] Exiting Program and cleanup stuff\")\n",
    "cam.release()\n",
    "cv2.destroyAllWindows()"
   ]
  },
  {
   "cell_type": "code",
   "execution_count": 2,
   "id": "0cc9bfa9-8da0-43ff-b9b0-7dbce3537980",
   "metadata": {},
   "outputs": [
    {
     "name": "stdout",
     "output_type": "stream",
     "text": [
      "Channels:\n",
      " - defaults\n",
      "Platform: osx-arm64\n",
      "Collecting package metadata (repodata.json): done\n",
      "Solving environment: done\n",
      "\n",
      "# All requested packages already installed.\n",
      "\n",
      "\n",
      "Note: you may need to restart the kernel to use updated packages.\n"
     ]
    }
   ],
   "source": [
    "conda install pytorch"
   ]
  }
 ],
 "metadata": {
  "kernelspec": {
   "display_name": "Python 3 (ipykernel)",
   "language": "python",
   "name": "python3"
  },
  "language_info": {
   "codemirror_mode": {
    "name": "ipython",
    "version": 3
   },
   "file_extension": ".py",
   "mimetype": "text/x-python",
   "name": "python",
   "nbconvert_exporter": "python",
   "pygments_lexer": "ipython3",
   "version": "3.12.2"
  }
 },
 "nbformat": 4,
 "nbformat_minor": 5
}
